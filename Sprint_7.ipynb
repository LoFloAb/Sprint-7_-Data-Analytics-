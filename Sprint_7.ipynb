{
 "cells": [
  {
   "cell_type": "markdown",
   "metadata": {},
   "source": [
    "# Sprint 7 - Estructuras de datos y de control\n",
    "\n",
    "Resolverás algunos problemas de la vida cotidiana aplicando las estructuras de datos y control en Python.\n",
    "\n",
    "Un cliente de la empresa en la que trabajas pide una lista de programas muy sencillos, pero que le facilitarían muchos procesos. Sin embargo, el departamento de TU está muy complicado con el tiempo, por lo que te piden que hagas la programación."
   ]
  },
  {
   "cell_type": "markdown",
   "metadata": {},
   "source": [
    "## Nivel 1"
   ]
  },
  {
   "cell_type": "markdown",
   "metadata": {},
   "source": [
    "### Ejercicio 1: Calculadora del índice de masa corporal\n",
    "\n",
    "1. Escribe una función que calcule el IMC ingresado por el usuario/a, es decir, quien lo ejecute deberá ingresar estos datos.\n",
    "Puedes obtener más información de su cálculo en:    \n",
    "[Índice de masa corporal IMC que es y cómo se calcula.](https://muysalud.com/salud/indice-de-masa-corporal-imc-que-es-y-como-se-calcula/)\n",
    "\n",
    "2. La función debe clasificar el resultado en sus respectivas categorías."
   ]
  },
  {
   "cell_type": "markdown",
   "metadata": {},
   "source": [
    "#### Explicación del código:\n",
    "\n",
    "1. Para realizar este ejercicio lo primero que hice fue definir la función, donde \"Weight\" y \"Height\" son los parámetros sobre los que la función trabaja, y \"BMI_calculator()\" es el nombre de la función.\n",
    "\n",
    "2. La fórmula que la función utiliza para procesar los datos es BMI = round(Weight/((Height/100)**2), 2).\n",
    "    * Donde \"Height\" se divide entre 100 para que el resultado esté en metros, ya que el input se solicita en centímetros. Una vez convertido a metros, se eleva al cuadrado.\n",
    "    * Luego, divido \"Weight\" entre el resultado de \"Height\" al cuadrado y, utilizando la función round(), determino que el resultado esté redondeado a 2 decimales.\n",
    "\n",
    "3. En las condicionales, establezco cuáles son los rangos del índice de masa corporal.\n",
    "    * En el primer if se especifica que si el resultado está por debajo de 18.5, será considerado infrapeso.\n",
    "    * En los siguientes elif, se determinan los rangos en intervalos de 5 (excepto el primer intervalo).\n",
    "\n",
    "4. Para gestionar las entradas no válidas, introduje un bloque try-except en los datos de entrada.\n",
    "    * Donde, si los datos no son enteros, se muestra un mensaje de error, y se especifica que las entradas deben ser números enteros."
   ]
  },
  {
   "cell_type": "code",
   "execution_count": 10,
   "metadata": {},
   "outputs": [
    {
     "name": "stdout",
     "output_type": "stream",
     "text": [
      "Your BMI is 23.44.\n",
      "You have a normal weight.\n"
     ]
    }
   ],
   "source": [
    "# Para definir la función y sobre qué iterará.\n",
    "def BMI_calculator(Weight, Height):\n",
    "    \n",
    "    # Fórmula para calcular el BMI (Índice de Masa Corporal).\n",
    "    BMI = round(Weight/((Height/100)**2),2)\n",
    "\n",
    "    # Las condiciones para determinar a qué rango pertenece cada BMI.\n",
    "    if BMI < 18.5:\n",
    "        print(f\"Your BMI is {BMI}.\\n\" + \"You are underweight.\")\n",
    "    elif BMI >= 18.5 and BMI <= 24.9:\n",
    "        print(f\"Your BMI is {BMI}.\\n\" + \"You have a normal weight.\")\n",
    "    elif BMI >= 25.0 and BMI <= 29.9:\n",
    "        print(f\"Your BMI is {BMI}.\\n\" + \"You are overweight.\")\n",
    "    elif BMI >= 30.0 and BMI <= 34.9:\n",
    "        print(f\"Your BMI is {BMI}.\\n\" + \"You have obesity class I.\")\n",
    "    elif BMI >= 35.0 and BMI <= 39.9:\n",
    "        print(f\"Your BMI is {BMI}.\\n\" + \"You have obesity class II.\")\n",
    "    elif BMI >= 40.0:\n",
    "        print(f\"Your BMI is {BMI}.\\n\" + \"You have obesity class III.\")\n",
    "    else:\n",
    "        print(\"Do not get what you are typing.\")\n",
    "\n",
    "# Para recibir los datos de entrada con manejo de excepciones.\n",
    "try:\n",
    "    Weight = int(input(\"Input your weight, in kilograms\"))\n",
    "    Height = int(input(\"Input how tall you are, in centimeters\"))\n",
    "\n",
    "    # Llamamos a la función.\n",
    "    BMI_calculator(Weight,Height)\n",
    "\n",
    "# Mensaje de error en caso de que se introduzca una entrada inválida.\n",
    "except ValueError:\n",
    "    print(\"Oops, that was an invalid input.\\n\" + \"Please input the weight and height as an integer numbers.\")"
   ]
  },
  {
   "cell_type": "markdown",
   "metadata": {},
   "source": [
    "### Ejercicio 2: Conversor de temperaturas.\n",
    "\n",
    "Existen diversas unidades de temperatura utilizadas en distintos contextos y regiones. Las más comunes son Celsius (°C), Fahrenheit (°F) y Kelvin (K). También existen otras unidades como Rankine (°Ra) y Réaumur (°Re). Selecciona al menos 2 conversores, de modo que al introducir una temperatura devuelva, como mínimo, dos conversiones."
   ]
  },
  {
   "cell_type": "markdown",
   "metadata": {},
   "source": [
    "#### Explicación del código:\n",
    "\n",
    "1. Primero, definimos la función y sobre qué iterará con def temperature_converter(Celsius):.\n",
    "    * Donde temperature_converter() será el nombre de la función y \"Celsius\" será el parámetro sobre el cual la función operará.\n",
    "\n",
    "2. Luego, definimos las fórmulas que utilizaremos para convertir los grados Celsius a Fahrenheit y Kelvin, respectivamente.\n",
    "    * Para la conversión a Fahrenheit, multiplicaremos los grados Celsius por 9/5 y le sumaremos 32 al resultado.\n",
    "    * Por otro lado, para la conversión a Kelvin, le sumaremos 273.15 a los grados Celsius.\n",
    "\n",
    "3. Después, mostraremos cuál fue la entrada que realizó el usuario y luego el resultado de la conversión en las unidades mencionadas anteriormente.\n",
    "    * Para ello, haremos un print() de una cadena formateada que nos presentará el valor de Celsius que el usuario introdujo, junto con el resultado de las conversiones a Fahrenheit y Kelvin.\n",
    "\n",
    "4. Ahora, usaremos un bloque try-except para evitar errores y redirigir al usuario en caso de que ocurran.\n",
    "    1. Primero, asignaremos el valor de Celsius como el input que el usuario ingrese.\n",
    "    2. Si el valor introducido es inválido, presentaremos un mensaje explicando que el input debe ser un número entero.\n",
    "    3. Finalmente, llamaremos a la función dentro del bloque try-except para asegurarnos de que cumpla su cometido."
   ]
  },
  {
   "cell_type": "code",
   "execution_count": 23,
   "metadata": {},
   "outputs": [
    {
     "name": "stdout",
     "output_type": "stream",
     "text": [
      "You input was 25° celsius.\n",
      "The temperature in Fahrenheit is 77.0°F, and in Kelvin is 298.15K.\n"
     ]
    }
   ],
   "source": [
    "# Para definir la función y sobre qué iterará.\n",
    "def temperature_converter(Celsius):\n",
    "    \n",
    "    # Fórmula para convertir la temperatura de Celsius a Fahrenheit.\n",
    "    Fahrenheit = (Celsius * (9/5)) + 32\n",
    "    # Fórmula para convertir la temperatura de Celsius a Kelvin.\n",
    "    Kelvin = (Celsius) + 273.15\n",
    "\n",
    "    # Para imprimir la entrada y los resultados de las conversiones.\n",
    "    print(f\"You input was {Celsius}° celsius.\\n\" + f\"The temperature in Fahrenheit is {Fahrenheit}°F, and in Kelvin is {Kelvin}K.\")\n",
    "\n",
    "# Para recibir los datos de entrada con manejo de excepciones.\n",
    "try:\n",
    "    Celsius = int(input(\"Input the temperature, in Celsius\"))\n",
    "    \n",
    "    # Llamamos a la función.\n",
    "    temperature_converter(Celsius)\n",
    "\n",
    "# Mensaje de error en caso de que se introduzca una entrada inválida.\n",
    "except ValueError:\n",
    "    print(\"Oops, that was an invalid input.\\n\" + \"Please input the temperature as an integer numbers.\")"
   ]
  },
  {
   "cell_type": "markdown",
   "metadata": {},
   "source": [
    "### Ejercicio 3: Contador de palabras en un texto.\n",
    "\n",
    "Escribe una función que dado un texto, muestre las veces que aparece cada palabra."
   ]
  },
  {
   "cell_type": "markdown",
   "metadata": {},
   "source": [
    "#### Explicación del código:\n",
    "\n",
    "1. El contador recibe un texto como entrada (input) y lo muestra para que el usuario pueda ver qué fue lo que introdujo.\n",
    "\n",
    "2. Definimos la función, que comienza convirtiendo todo el texto a minúsculas y luego elimina los símbolos del texto para asegurar una mejor concordancia en el conteo.\n",
    "\n",
    "3. Después, dividimos el texto en palabras y contamos cuántas contiene.\n",
    "\n",
    "4. Abrimos un diccionario y agregamos los pares de palabras junto con su respectiva frecuencia.\n",
    "\n",
    "5. Finalmente, mostramos el conteo total de palabras en el texto y los pares de palabras con su frecuencia."
   ]
  },
  {
   "cell_type": "code",
   "execution_count": 9,
   "metadata": {},
   "outputs": [
    {
     "name": "stdout",
     "output_type": "stream",
     "text": [
      "Your text was:\n",
      "Dichoso el árbol, que es apenas sensitivo, y más la piedra dura porque esa ya no siente, pues no hay dolor más grande que el dolor de ser vivo, ni mayor pesadumbre que la vida consciente.\n",
      "\n",
      "The count of words is:\n",
      "36\n",
      "\n",
      "The frequency of words is:\n",
      "{'dichoso': 1, 'el': 2, 'árbol': 1, 'que': 3, 'es': 1, 'apenas': 1, 'sensitivo': 1, 'y': 1, 'más': 2, 'la': 2, 'piedra': 1, 'dura': 1, 'porque': 1, 'esa': 1, 'ya': 1, 'no': 2, 'siente': 1, 'pues': 1, 'hay': 1, 'dolor': 2, 'grande': 1, 'de': 1, 'ser': 1, 'vivo': 1, 'ni': 1, 'mayor': 1, 'pesadumbre': 1, 'vida': 1, 'consciente': 1}\n"
     ]
    }
   ],
   "source": [
    "# Fuente del texto utilizado para probar el contador de palabras:\n",
    "# https://www.poemas-del-alma.com/lo-fatal.htm\n",
    "\n",
    "# Para recibir el texto del que el usuario nos provea.\n",
    "text = input(\"Input the text here: \")\n",
    "# Para mostrar el texto antes de realizar cualquier cambio.\n",
    "print(f\"Your text was:\\n{text}\\n\")\n",
    "\n",
    "# Definimos la función y sobre que iterará.\n",
    "def counter_of_words_frequency(text):\n",
    "    # Los símbolos que pueden estar presentes en el texto, y que eliminaremos para mostrar solo las palabras.\n",
    "    symbols = [\",\", \".\", \";\", \":\", \"'\", '\"', \"¿\", \"?\", \"¡\", \"!\", \"(\", \")\"]\n",
    "    # Convertimos todas las palabras a minúsculas para realizar un conteo correcto, porque Python distingue entre mayúsculas y minúsculas (es case sensitive).\n",
    "    text = text.lower()\n",
    "    \n",
    "    # Iteramos sobre el texto para eliminar los símbolos, reemplazándolos por una cadena vacía.\n",
    "    for symbol in symbols:\n",
    "        text = text.replace(symbol, \"\")\n",
    "\n",
    "    # Dividimos el texto en palabras y contamos la cantidad de palabras que contiene.\n",
    "    words = text.split()\n",
    "    word_counter = len(words)\n",
    "    # Creamos un diccionario para almacenar los pares de palabras y sus frecuencias.\n",
    "    word_frequency = {}\n",
    "\n",
    "    # Buscamos las palabras y, si se repiten, sumamos 1 a su frecuencia por cada repetición; en caso contrario, su frecuencia será 1.\n",
    "    for word in words:\n",
    "        if word in word_frequency:\n",
    "            word_frequency[word] += 1\n",
    "        else:\n",
    "            word_frequency[word] = 1\n",
    "\n",
    "    # Imprimimos el conteo total de palabras.\n",
    "    print(f\"The count of words is:\\n{word_counter}\\n\")\n",
    "    # Imprimimos los pares de palabras junto con su frecuencia en el texto.\n",
    "    print(f\"The frequency of words is:\\n{word_frequency}\")\n",
    "    \n",
    "# Llamamos a la función para ejecutar el contador de palabras.\n",
    "counter_of_words_frequency(text)"
   ]
  },
  {
   "cell_type": "markdown",
   "metadata": {},
   "source": [
    "### Ejercicio 4: Diccionario inverso.\n",
    "\n",
    "Resulta que el cliente tiene una encuesta muy antigua que se almacena en un diccionario y los resultados los necesita a la inversa, es decir, intercambiados las claves y los valores.\n",
    "Los valores y claves en el diccionario original son únicos; el caso, la función debería imprimir un mensaje de advertencia.\n",
    "\n",
    "dictionary = {1: 'a', 2: 'b', 3: 'c', 4: 'd', 5: 'e', 6: 'f'}    \n",
    "reverse_dictionary = ({'a': 1, 'b': 2, 'c': 3, 'd': 4, 'e': 5, 'f': 6})\n",
    "\n",
    "reverse_dictionary = ({'a': 'apple', 'b': 'banana', 'c': 'banana', 'd': 'melon', 'e': 'mango', 'f' : 'apple'})    \n",
    "Error: multiple keys for one value"
   ]
  },
  {
   "cell_type": "markdown",
   "metadata": {},
   "source": [
    "#### Explicación del código:\n",
    "\n",
    "La función recibe un diccionario y lo invierte. En caso de que haya valores repetidos, el proceso se detendrá y se mostrará un mensaje de error. Para ello:\n",
    "\n",
    "1. Crea dos diccionarios vacíos: en el primero almacenará el diccionario invertido, y en el segundo guardará los valores junto con su conteo.\n",
    "\n",
    "2. Recorre el diccionario proporcionado mediante un bucle, almacenando los valores y su conteo en el diccionario value_count previamente creado.\n",
    "\n",
    "3. Verifica el conteo de cada valor del diccionario original mediante otro bucle. Si algún valor tiene un conteo mayor que 1, se devolverá un mensaje de error.\n",
    "\n",
    "4. Si no hay valores repetidos, invertirá el diccionario, intercambiando las claves y los valores."
   ]
  },
  {
   "cell_type": "code",
   "execution_count": 2,
   "metadata": {},
   "outputs": [
    {
     "name": "stdout",
     "output_type": "stream",
     "text": [
      "Your dictionary was:\n",
      " {1: 'a', 2: 'b', 3: 'c', 4: 'd', 5: 'e', 6: 'f'}\n",
      "The reverse dictionary is:\n",
      " {'a': 1, 'b': 2, 'c': 3, 'd': 4, 'e': 5, 'f': 6}\n"
     ]
    }
   ],
   "source": [
    "# Definimos la función y especificamos el parámetro sobre el que se iterará.\n",
    "def reverse_dictionary(dictionary):\n",
    "    # Inicializamos un diccionario que almacenará el diccionario invertido.\n",
    "    reverse_dict = {}\n",
    "    # Inicializamos otro diccionario para contar las frecuencias de los valores.\n",
    "    value_count = {}\n",
    "\n",
    "    # Recorremos el diccionario original para contar las frecuencias de los valores, y almacenarlas en el diccionario 'value_count'.\n",
    "    for _, value in dictionary.items():  # Recorremos solo los valores.\n",
    "        value_count[value] = value_count.get(value, 0) + 1  # Incrementamos el conteo de 'value' (o lo inicializamos en 1 si es la primera vez que aparece).\n",
    "\n",
    "    # Recorremos nuevamente el diccionario original.\n",
    "    for key, value in dictionary.items():  # Recorremos los pares clave-valor del diccionario original.\n",
    "        if value_count[value] > 1:  # Si algún valor tiene un conteo mayor que 1, mostramos el mensaje de error.\n",
    "            print(\"Error: multiple keys for one value\")\n",
    "            return  # Terminamos la ejecución si hay valores duplicados.\n",
    "        # Si no hay valores duplicados, invertimos el diccionario. 'value' será ahora la clave y 'key' será el valor.\n",
    "        reverse_dict[value] = key\n",
    "    # Si no hubo valores duplicados, mostramos el diccionario original y el diccionario invertido.\n",
    "    return print(f\"Your dictionary was:\\n {dictionary}\\n\" + f\"The reverse dictionary is:\\n {reverse_dict}\")\n",
    "\n",
    "# Diccionario original.\n",
    "dictionary = {1: 'a', 2: 'b', 3: 'c', 4: 'd', 5: 'e', 6: 'f'}\n",
    "# Llamamos a la función.\n",
    "reverse_dictionary(dictionary)"
   ]
  },
  {
   "cell_type": "markdown",
   "metadata": {},
   "source": [
    "## Nivel 2"
   ]
  },
  {
   "cell_type": "markdown",
   "metadata": {},
   "source": [
    "### Ejercicio 1: Diccionario inverso con duplicados\n",
    "\n",
    "Continuando con el ejercicio 4 del nivel 1: al cliente se olvidó comentar un detalle y resulta que los valores en el diccionario original pueden duplicarse y más, por lo que las claves intercambiadas pueden tener duplicados. En este caso, en el ejercicio anterior imprimías un mensaje de advertencia, ahora, los valores del diccionario resultante tendrán que almacenarse como una lista. Ten en cuenta que si es un valor único no debe ser una lista.\n",
    "\n",
    "dictionary_plus = {'x': 'apple', 'y': 'banana', 'z': 'banana'}    \n",
    "reverse_dictionary_plus = {'apple': 'x', 'banana': ['y', 'z']}"
   ]
  },
  {
   "cell_type": "markdown",
   "metadata": {},
   "source": [
    "#### Explicación del código:\n",
    "\n",
    "1. Definimos la función y el parámetro sobre el que esta iterará; en este caso, será sobre dictionary_plus.\n",
    "\n",
    "2. Inicializamos un diccionario vacío donde almacenaremos el resultado de invertir el diccionario original.\n",
    "\n",
    "3. Mediante un bucle, recorremos el diccionario original e invertimos las claves y valores.\n",
    "    * Si un valor se repite, se convertirá en una lista de claves, agregando las nuevas claves encontradas.\n",
    "\n",
    "4. Finalmente, la función mostrará tanto el diccionario original como el diccionario invertido, con los valores repetidos representados como listas de claves."
   ]
  },
  {
   "cell_type": "code",
   "execution_count": null,
   "metadata": {},
   "outputs": [
    {
     "name": "stdout",
     "output_type": "stream",
     "text": [
      "Your dictionay was:\n",
      " {'a': 'apple', 'b': 'banana', 'c': 'banana', 'd': 'melon', 'e': 'mango', 'f': 'apple'}\n",
      "The reverse dictionary is:\n",
      " {'apple': ['a', 'f'], 'banana': ['b', 'c'], 'melon': 'd', 'mango': 'e'}\n"
     ]
    }
   ],
   "source": [
    "# Definimos la función y el parámetro sobre el que iterará.\n",
    "def reverse_dictionary_plus(dictionary_plus):\n",
    "    # Inicializamos el diccionario donde guardaremos el diccionario invertido.\n",
    "    reverse_dict_plus = {}\n",
    "\n",
    "    # Bucle que recorre el diccionario original.\n",
    "    for key, value in dictionary_plus.items(): # Recorremos los pares clave-valor.\n",
    "        # Verificamos si el valor ya está en el diccionario invertido.\n",
    "        if value in reverse_dict_plus:\n",
    "            # Si el valor ya está, lo obtenemos como lista de claves y le agregamos la nueva clave.\n",
    "            reverse_dict_plus[value] = reverse_dict_plus.get(value, []) + [key]\n",
    "        else:\n",
    "            # Si el valor no está, lo añadimos con la clave correspondiente.\n",
    "            reverse_dict_plus[value] = key\n",
    "    # Mostramos el diccionario original, y el resultado de la inversión.\n",
    "    return print(f\"Your dictionay was:\\n {dictionary_plus}\\n\" + f\"The reverse dictionary is:\\n {reverse_dict_plus}\")\n",
    "\n",
    "# Diccionario original.\n",
    "dictionary_plus = {'a': 'apple', 'b': 'banana', 'c': 'banana', 'd': 'melon', 'e': 'mango', 'f' : 'apple'}\n",
    "# Llamamos a la función.\n",
    "reverse_dictionary_plus(dictionary_plus)"
   ]
  },
  {
   "cell_type": "markdown",
   "metadata": {},
   "source": [
    "### Ejercicio 2: Conversión de tipos de datos\n",
    "\n",
    "El cliente recibe una lista de datos y necesita generar dos listas, la primera donde estarán todos los elementos que pudieron convertirse en flotantes y la otra donde están los elementos que no pudieron convertirse.    \n",
    "Ejemplo de la lista que recibe el cliente:    \n",
    "conversion [ '1.3', 'one', '1e10', 'seven', '3-1/2', ('2',1,1.4, 'not-a-number'), [1,2,'3','3.4']]\n",
    "\n",
    "([1.3, 10000000000.0, 2.0, 1.0, 1.4, 1.0, 2.0, 3.0, 3.4],    \n",
    "['one', 'seven', '3-1/2', 'not-a-number'])"
   ]
  },
  {
   "cell_type": "markdown",
   "metadata": {},
   "source": [
    "#### Explicación del código:\n",
    "\n",
    "1. Primero definimos la función principal que tomará una lista de datos como entrada.\n",
    "\n",
    "2. Luego, inicializamos dos listas vacías: una para los elementos convertibles (convertable_list) y otra para los no convertibles (non_convertable_list).\n",
    "\n",
    "3. Después, definimos una función anidada recursiva que procesará los elementos de la lista de entrada:\n",
    "    1. Si el elemento es una lista o tupla, la función se llama a sí misma para procesar los subelementos.\n",
    "    2. Si el elemento no es ni lista ni tupla, intenta convertirlo a float.\n",
    "    3. Si la conversión es exitosa, el elemento se agrega a la lista de convertibles.\n",
    "    4. Si la conversión falla, el elemento se agrega a la lista de no convertibles.\n",
    "\n",
    "4. Tras esto, iteramos sobre cada elemento de la lista de entrada y lo procesamos mediante la función recursiva.\n",
    "\n",
    "5. Finalmente, imprimimos las dos listas resultantes: una con los elementos convertibles y otra con los no convertibles."
   ]
  },
  {
   "cell_type": "code",
   "execution_count": 1,
   "metadata": {},
   "outputs": [
    {
     "name": "stdout",
     "output_type": "stream",
     "text": [
      "This is the convertable list:\n",
      "[1.3, 10000000000.0, 2.0, 1.0, 1.4, 1.0, 2.0, 3.0, 3.4]\n",
      "\n",
      "This is the non convertable list:\n",
      "['one', 'seven', '3-1/2', 'not-a-number']\n"
     ]
    }
   ],
   "source": [
    "# Lista de datos de entrada.\n",
    "data_list = ['1.3', 'one', '1e10', 'seven', '3-1/2', ('2', 1, 1.4, 'not-a-number'), [1, 2, '3', '3.4']]\n",
    "\n",
    "# Definimos la función principal y el parámetro sobre el que iterará.\n",
    "def convertion(data_list):\n",
    "    # Inicializamos las listas donde almacenaremos los elementos procesados.\n",
    "    convertable_list = []\n",
    "    non_convertable_list = []\n",
    "\n",
    "    # Función recursiva que manejará las estructuras de datos anidadas.\n",
    "    def process_elements(element):\n",
    "        # Si el elemento es una lista o tupla, recursivamente procesamos ese elemento.\n",
    "        if isinstance(element, (list, tuple)):\n",
    "            # Procesamos los subelementos de la estructura anidada.\n",
    "            for sub_element in element:\n",
    "                process_elements(sub_element)\n",
    "        else:\n",
    "            # Intentamos convertir el elemento a float. Si se logra, lo agregamos a la lista de convertibles.\n",
    "            try:\n",
    "                convertable_list.append(float(element))\n",
    "            # Si ocurre un error de conversión, lo agregamos a la lista de no convertibles.\n",
    "            except ValueError:\n",
    "                non_convertable_list.append(element)\n",
    "    \n",
    "    # Bucle que itera sobre la lista de datos, llamando a la función recursiva para procesar cada elemento.\n",
    "    for item in data_list:\n",
    "        process_elements(item)\n",
    "    \n",
    "    # Retornamos el resultado, mostrando tanto la lista de convertibles como la lista de no convertibles.\n",
    "    return print(f\"This is the convertable list:\\n{convertable_list}\\n\" + f\"\\nThis is the non convertable list:\\n{non_convertable_list}\")\n",
    "\n",
    "# Llamamos a la función principal.\n",
    "convertion(data_list)"
   ]
  },
  {
   "cell_type": "markdown",
   "metadata": {},
   "source": [
    "## Nivel 3"
   ]
  },
  {
   "cell_type": "markdown",
   "metadata": {},
   "source": [
    "### Ejercicio 1: Contador y ordenador de palabras de un texto.\n",
    "\n",
    "El cliente quedó contento con el contador de palabras, pero ahora quiere leer archivos TXT y que calcule la frecuencia de cada palabra ordenadas dentro de las entradas habituales del diccionario según la letra con la que comienzan, es decir, las claves deben ir de la A a la Z y dentro de la A debemos ir de la A a la Z.    \n",
    "Por ejemplo, para el archivo \"tu_me_quieres_blanca.txt\" la salida esperada sería:    \n",
    "{'a': {'a': 3, 'agua': 1, 'al': 2, 'alba': 4, 'alcobas': 1, 'alimenta': 1, 'alma': 1, 'amarga': 1, 'azucena': 1},    \n",
    "'b': {'baco': 1, 'banquete': 1, 'bebe': 1, 'blanca': 3, 'boca': 1, 'bosques': 1, 'buen': 1},    \n",
    "'c': {'cabañas': 1, 'carnes': 2, 'casta': 3, 'cerrada': 1, 'con': 4, 'conservas': 1, 'copas': 1, 'corola': 1, 'corriste': 1},    \n",
    "'t': {'tornadas': 1, 'tú': 8},    \n",
    "'u': {'un': 1, 'una': 1},    \n",
    "'v': {'vestido': 1, 'vete': 1, 'vive': 1},    \n",
    "'y': {'y': 5}}"
   ]
  },
  {
   "cell_type": "markdown",
   "metadata": {},
   "source": [
    "#### Explicación del código:\n",
    "\n",
    "1. En esta evolución del contador, recibiremos la ruta de un archivo .TXT como entrada (input), la almacenaremos en la variable \"file_path\" y luego procederemos a abrir el archivo para mostrar su contenido, permitiendo al usuario ver lo que ha introducido.\n",
    "\n",
    "2. Definimos la función principal e inicializamos la variable \"symbols\", que contiene una lista de los posibles símbolos que podríamos encontrar en el texto.\n",
    "\n",
    "3. Convertimos todo el texto a minúsculas y, mediante un bucle, eliminamos los símbolos. De esta manera, normalizamos el texto y garantizamos la concordancia en el conteo de palabras.\n",
    "\n",
    "4. Luego, dividimos el texto en palabras y contamos cuántas palabras contiene.\n",
    "\n",
    "5. A continuación, creamos un diccionario y, mediante un bucle, agregamos los pares de palabras junto con su respectiva frecuencia.\n",
    "\n",
    "6. Después, creamos otro diccionario en el que almacenaremos las palabras ordenadas alfabéticamente por su inicial, utilizando un bucle para realizar la organización.\n",
    "\n",
    "7. Finalmente, mostramos el conteo total de palabras en el texto y los pares de palabras con su frecuencia."
   ]
  },
  {
   "cell_type": "code",
   "execution_count": 8,
   "metadata": {},
   "outputs": [
    {
     "name": "stdout",
     "output_type": "stream",
     "text": [
      "Your text was:\n",
      "Tú me quieres alba,\n",
      "me quieres de espumas,\n",
      "me quieres de nácar.\n",
      "Que sea azucena\n",
      "Sobre todas, casta.\n",
      "De perfume tenue.\n",
      "Corola cerrada .\n",
      "\n",
      "Ni un rayo de luna\n",
      "filtrado me haya.\n",
      "Ni una margarita\n",
      "se diga mi hermana.\n",
      "Tú me quieres nívea,\n",
      "tú me quieres blanca,\n",
      "tú me quieres alba.\n",
      "\n",
      "Tú que hubiste todas\n",
      "las copas a mano,\n",
      "de frutos y mieles\n",
      "los labios morados.\n",
      "Tú que en el banquete\n",
      "cubierto de pámpanos\n",
      "dejaste las carnes\n",
      "festejando a Baco.\n",
      "Tú que en los jardines\n",
      "negros del Engaño\n",
      "vestido de rojo\n",
      "corriste al Estrago.\n",
      "\n",
      "Tú que el esqueleto\n",
      "conservas intacto\n",
      "no sé todavía\n",
      "por cuáles milagros,\n",
      "me pretendes blanca\n",
      "(Dios te lo perdone),\n",
      "me pretendes casta\n",
      "(Dios te lo perdone),\n",
      "¡me pretendes alba!\n",
      "\n",
      "Huye hacia los bosques,\n",
      "vete a la montaña;\n",
      "límpiate la boca;\n",
      "vive en las cabañas;\n",
      "toca con las manos\n",
      "la tierra mojada;\n",
      "alimenta el cuerpo\n",
      "con raíz amarga;\n",
      "bebe de las rocas;\n",
      "duerme sobre escarcha;\n",
      "renueva tejidos\n",
      "con salitre y agua:\n",
      "\n",
      "Habla con los pájaros\n",
      "y lévate al alba.\n",
      "Y cuando las carnes\n",
      "te sean tornadas,\n",
      "y cuando hayas puesto\n",
      "en ellas el alma\n",
      "que por las alcobas\n",
      "se quedó enredada,\n",
      "entonces, buen hombre,\n",
      "preténdeme blanca,\n",
      "preténdeme nívea,\n",
      "preténdeme casta.\n",
      "\n",
      "The count of words is:\n",
      "202\n",
      "\n",
      "The frequency of words sorted by their first letter is:\n",
      "{'a': {'a': 3, 'agua': 1, 'al': 2, 'alba': 4, 'alcobas': 1, 'alimenta': 1, 'alma': 1, 'amarga': 1, 'azucena': 1}, 'b': {'baco': 1, 'banquete': 1, 'bebe': 1, 'blanca': 3, 'boca': 1, 'bosques': 1, 'buen': 1}, 'c': {'cabañas': 1, 'carnes': 2, 'casta': 3, 'cerrada': 1, 'con': 4, 'conservas': 1, 'copas': 1, 'corola': 1, 'corriste': 1, 'cuando': 2, 'cubierto': 1, 'cuerpo': 1, 'cuáles': 1}, 'd': {'de': 8, 'dejaste': 1, 'del': 1, 'diga': 1, 'dios': 2, 'duerme': 1}, 'e': {'el': 4, 'ellas': 1, 'en': 4, 'engaño': 1, 'enredada': 1, 'entonces': 1, 'escarcha': 1, 'espumas': 1, 'esqueleto': 1, 'estrago': 1}, 'f': {'festejando': 1, 'filtrado': 1, 'frutos': 1}, 'h': {'habla': 1, 'hacia': 1, 'haya': 1, 'hayas': 1, 'hermana': 1, 'hombre': 1, 'hubiste': 1, 'huye': 1}, 'i': {'intacto': 1}, 'j': {'jardines': 1}, 'l': {'la': 3, 'labios': 1, 'las': 7, 'lo': 2, 'los': 4, 'luna': 1, 'lévate': 1, 'límpiate': 1}, 'm': {'mano': 1, 'manos': 1, 'margarita': 1, 'me': 10, 'mi': 1, 'mieles': 1, 'milagros': 1, 'mojada': 1, 'montaña': 1, 'morados': 1}, 'n': {'negros': 1, 'ni': 2, 'no': 1, 'nácar': 1, 'nívea': 2}, 'p': {'perdone': 2, 'perfume': 1, 'por': 2, 'pretendes': 3, 'preténdeme': 3, 'puesto': 1, 'pájaros': 1, 'pámpanos': 1}, 'q': {'que': 6, 'quedó': 1, 'quieres': 6}, 'r': {'rayo': 1, 'raíz': 1, 'renueva': 1, 'rocas': 1, 'rojo': 1}, 's': {'salitre': 1, 'se': 2, 'sea': 1, 'sean': 1, 'sobre': 2, 'sé': 1}, 't': {'te': 3, 'tejidos': 1, 'tenue': 1, 'tierra': 1, 'toca': 1, 'todas': 2, 'todavía': 1, 'tornadas': 1, 'tú': 8}, 'u': {'un': 1, 'una': 1}, 'v': {'vestido': 1, 'vete': 1, 'vive': 1}, 'y': {'y': 5}}\n"
     ]
    }
   ],
   "source": [
    "# Ahora leemos el archivo de texto en lugar de recibir el texto directamente.\n",
    "file_path = input(\"Input the file path here: (Without quotation marks)\")\n",
    "\n",
    "# Leemos el contenido del archivo.\n",
    "with open(file_path, 'r', encoding='utf-8') as file:\n",
    "    text = file.read()\n",
    "    print(f\"Your text was:\\n{text}\\n\")\n",
    "\n",
    "# Definimos la función que contará y ordenará la frecuencia de las palabras en el texto.\n",
    "def counter_and_sorterer_of_words_frequency(text):\n",
    "    # Los símbolos que eliminaremos del texto para mostrar solo las palabras.\n",
    "    symbols = [\",\", \".\", \";\", \":\", \"'\", '\"', \"¿\", \"?\", \"¡\", \"!\", \"(\", \")\"]\n",
    "    # Convertimos todas las palabras a minúsculas para realizar un conteo correcto.\n",
    "    text = text.lower()\n",
    "\n",
    "    # Iteramos sobre el texto para eliminar los símbolos reemplazándolos por una cadena vacía.\n",
    "    for symbol in symbols:\n",
    "        text = text.replace(symbol, \"\")\n",
    "\n",
    "    # Dividimos el texto en palabras y contamos la cantidad de palabras que contiene.\n",
    "    words = text.split()\n",
    "    word_counter = len(words)\n",
    "    # Creamos un diccionario para almacenar los pares de palabras y sus frecuencias.\n",
    "    word_frequency = {}\n",
    "\n",
    "    # Recorremos las palabras y, si se repiten, incrementamos su frecuencia en 1 por cada aparición.\n",
    "    for word in words:\n",
    "        if word in word_frequency:\n",
    "            word_frequency[word] += 1\n",
    "        else:\n",
    "            word_frequency[word] = 1\n",
    "\n",
    "    # Creamos un diccionario para almacenar las palabras, organizadas por su primera letra.\n",
    "    sorted_word_frequency = {}\n",
    "\n",
    "    # Ordenamos el diccionario por la primera letra de cada palabra (A a Z).\n",
    "    for word, count in sorted(word_frequency.items()):\n",
    "        first_letter = word[0]\n",
    "        # Si la primera letra no existe en \"sorted_word_frequency\", creamos la nueva clave.\n",
    "        if first_letter not in sorted_word_frequency:\n",
    "            sorted_word_frequency[first_letter] = {}\n",
    "        # Añadimos los pares \"palabra: frecuencia\" a la clave correspondiente por la primera letra.\n",
    "        sorted_word_frequency[first_letter][word] = count\n",
    "\n",
    "    # Imprimimos el conteo total de palabras.\n",
    "    print(f\"The count of words is:\\n{word_counter}\\n\")\n",
    "    # Imprimimos las palabras organizadas y su frecuencia en orden alfabético dentro de cada letra.\n",
    "    print(f\"The frequency of words sorted by their first letter is:\\n{sorted_word_frequency}\")\n",
    "\n",
    "# Llamamos a la función para ejecutar el contador de palabras.\n",
    "counter_and_sorterer_of_words_frequency(text)"
   ]
  }
 ],
 "metadata": {
  "kernelspec": {
   "display_name": "Python 3",
   "language": "python",
   "name": "python3"
  },
  "language_info": {
   "codemirror_mode": {
    "name": "ipython",
    "version": 3
   },
   "file_extension": ".py",
   "mimetype": "text/x-python",
   "name": "python",
   "nbconvert_exporter": "python",
   "pygments_lexer": "ipython3",
   "version": "3.12.5"
  }
 },
 "nbformat": 4,
 "nbformat_minor": 2
}
